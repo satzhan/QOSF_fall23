{
 "cells": [
  {
   "cell_type": "markdown",
   "id": "96d11f39",
   "metadata": {},
   "source": [
    "### Goal\n",
    "**Decompose the Multi-Controlled NOT (MCX) Gate into CNOT (CX) and Single-Qubit Unitary (U) Gates**\n",
    "\n",
    "### Given\n",
    "- An MCX gate with $n$ control qubits and 1 target qubit.\n",
    "\n",
    "### Output\n",
    "1. **List of Gates**: A sequence of CX and U gates that, when applied in order, will perform the same operation as the given MCX gate.\n",
    "   \n",
    "2. **Quantum Circuit**: A visual representation (circuit diagram) of the decomposition using standard quantum gates.\n",
    "\n",
    "### Problem Description\n",
    "\n",
    "#### What is an MCX Gate?\n",
    "The MCX gate, or multi-controlled X gate, flips the target qubit if all control qubits are in the state $|1\\rangle$. Mathematically, if we have $n$ control qubits $C_1, C_2, \\ldots, C_n$ and a target qubit $T$, the MCX gate performs the following operation:\n",
    "\n",
    "$$\n",
    "\\text{MCX}_{C_1 C_2 \\ldots C_n T} |c_1 c_2 \\ldots c_n t\\rangle = |c_1 c_2 \\ldots c_n\\rangle |t \\oplus (c_1 \\land c_2 \\land \\ldots \\land c_n)\\rangle \n",
    "$$\n",
    "\n",
    "Here, $\\oplus$ denotes addition modulo 2 (XOR), and $\\land$ denotes the logical AND operation.\n",
    "\n",
    "#### Why Decompose the MCX Gate?\n",
    "Quantum computers might not directly support MCX gates, especially with a large number of control qubits. To implement algorithms using MCX gates on actual quantum hardware, we need to decompose them into gates that are natively supported, like CX and U gates.\n",
    "\n",
    "### Steps to Approach\n",
    "\n",
    "1. **Understand the MCX Gate**: Recognize the functionality and action of the MCX gate on various qubit states.\n",
    "\n",
    "2. **Identify Basic Gates**: Understand the functionalities of the CX gate and various U gates (e.g., U3, U1).\n",
    "\n",
    "3. **Decompose into Toffoli Gate**: If the MCX gate has more than 2 control qubits, decompose it into a sequence of Toffoli (CCX) gates using ancillary qubits.\n",
    "\n",
    "4. **Decompose Toffoli Gate**: Further decompose the Toffoli gate into single-qubit and CX gates.\n",
    "\n",
    "5. **Optimize**: (Advanced) Try to optimize the gate sequence for reduced gate count or improved accuracy.\n",
    "\n",
    "6. **Verify**: Ensure that the decomposed circuit performs the same operation as the original MCX gate by testing on various input states.\n",
    "\n",
    "### Example and Solution\n",
    "- **Example**: Provide a specific example with a small number of qubits for clarity.\n",
    "- **Solution**: Walk through the decomposition step by step, explaining the role of each gate and ensuring the final state is equivalent to the action of the original MCX gate.\n",
    "\n",
    "### Exercises\n",
    "- **Practice Problems**: Offer a few practice problems with different numbers of control qubits and different initial states.\n",
    "- **Solutions**: Provide detailed solutions to affirm the understanding of the decomposition process.\n",
    "\n",
    "### Additional Notes\n",
    "- **Quantum Cost**: Discuss the implications of decomposing gates in terms of quantum cost, error rates, and resource usage.\n",
    "- **Advanced Topics**: Introduce the concept of gate approximation and error mitigation for advanced learners.\n"
   ]
  },
  {
   "cell_type": "markdown",
   "id": "527c60f9",
   "metadata": {},
   "source": [
    "### CNOT (CX) Gate\n",
    "\n",
    "The Controlled NOT (CNOT) gate, also referred to as the CX gate, plays a pivotal role in quantum computing by allowing entanglement between qubits. The gate operates on two qubits: a control qubit and a target qubit. It flips (applies a NOT or $X$ operation to) the target qubit only when the control qubit is in the state $|1\\rangle$. The matrix representation of the CNOT gate is:\n",
    "\n",
    "$$\n",
    "\\text{CNOT} = \\begin{bmatrix}\n",
    "1 & 0 & 0 & 0 \\\\\n",
    "0 & 1 & 0 & 0 \\\\\n",
    "0 & 0 & 0 & 1 \\\\\n",
    "0 & 0 & 1 & 0 \\\\\n",
    "\\end{bmatrix}\n",
    "$$\n",
    "\n",
    "In this representation, the first qubit is the control and the second is the target. If we reverse their roles, we need to swap the positions of the \"1\" elements in the bottom right quadrant of the matrix.\n",
    "\n",
    "#### Quantum Circuit Symbol: \n",
    "The CNOT gate is typically represented in quantum circuits as a plus sign inside a circle (control qubit) connected by a line to another qubit with an \"X\" (target qubit).\n",
    "\n",
    "### U Gates\n",
    "\n",
    "U gates form a family of single-qubit gates that allow for various types of rotations and transformations of a qubit's state. These gates help in adjusting the phases and probabilities in a quantum algorithm.\n",
    "\n",
    "#### U3 Gate\n",
    "The U3 gate is a general single-qubit rotation gate, parameterized by three angles. It is defined as:\n",
    "\n",
    "$$\n",
    "U3(\\theta, \\phi, \\lambda) = \\begin{bmatrix}\n",
    "\\cos(\\theta/2) & -e^{i \\lambda}\\sin(\\theta/2) \\\\\n",
    "e^{i \\phi}\\sin(\\theta/2) & e^{i (\\phi + \\lambda)}\\cos(\\theta/2)\n",
    "\\end{bmatrix}\n",
    "$$\n",
    "\n",
    "- $\\theta$ controls the \"amount\" of rotation and mixes the computational basis states.\n",
    "- $\\phi$ and $\\lambda$ control the phase of the qubit.\n",
    "\n",
    "#### Other U Gates\n",
    "- **U1 Gate (Phase Gate)**: Applies a phase shift to the qubit state and is defined by a single parameter $\\lambda$.\n",
    "  \n",
    "  $$ \n",
    "  U1(\\lambda) = \\begin{bmatrix}\n",
    "  1 & 0 \\\\\n",
    "  0 & e^{i \\lambda}\n",
    "  \\end{bmatrix}\n",
    "  $$\n",
    "\n",
    "- **U2 Gate**: A rotation gate defined by two parameters, $\\phi$ and $\\lambda$. It is a special case of the U3 gate with $\\theta = \\pi/2$.\n",
    "\n",
    "  $$\n",
    "  U2(\\phi, \\lambda) = \\frac{1}{\\sqrt{2}}\\begin{bmatrix}\n",
    "  1 & -e^{i \\lambda} \\\\\n",
    "  e^{i \\phi} & e^{i (\\phi + \\lambda)}\n",
    "  \\end{bmatrix}\n",
    "  $$\n",
    "\n",
    "These U gates, along with the CNOT gate, form a universal gate set, meaning that any quantum operation can be approximated arbitrarily well using just these gates. Understanding these fundamental gates will lay a solid foundation for grasping more complex quantum circuits and algorithms.\n"
   ]
  },
  {
   "cell_type": "code",
   "execution_count": 224,
   "id": "c36db377",
   "metadata": {},
   "outputs": [],
   "source": [
    "from qiskit import QuantumCircuit, ClassicalRegister, QuantumRegister\n"
   ]
  },
  {
   "cell_type": "code",
   "execution_count": 225,
   "id": "6ab5a139",
   "metadata": {},
   "outputs": [],
   "source": [
    "# Build a quantum circuit\n",
    "circuit = QuantumCircuit(3, 3)\n",
    "\n",
    "circuit.x(1)\n",
    "circuit.h(range(3))\n",
    "circuit.cx(0, 1)\n",
    "circuit.measure(range(3), range(3));"
   ]
  },
  {
   "cell_type": "code",
   "execution_count": 181,
   "id": "e5c72e39",
   "metadata": {},
   "outputs": [
    {
     "name": "stdout",
     "output_type": "stream",
     "text": [
      "     ┌───┐          ┌─┐   \n",
      "q_0: ┤ H ├───────■──┤M├───\n",
      "     ├───┤┌───┐┌─┴─┐└╥┘┌─┐\n",
      "q_1: ┤ X ├┤ H ├┤ X ├─╫─┤M├\n",
      "     ├───┤└┬─┬┘└───┘ ║ └╥┘\n",
      "q_2: ┤ H ├─┤M├───────╫──╫─\n",
      "     └───┘ └╥┘       ║  ║ \n",
      "c: 3/═══════╩════════╩══╩═\n",
      "            2        0  1 \n"
     ]
    }
   ],
   "source": [
    "print(circuit)"
   ]
  },
  {
   "cell_type": "code",
   "execution_count": 182,
   "id": "59723d8f",
   "metadata": {},
   "outputs": [
    {
     "data": {
      "image/png": "[encoded data removed]",
      "text/plain": [
       "<Figure size 387.597x264.88 with 1 Axes>"
      ]
     },
     "execution_count": 182,
     "metadata": {},
     "output_type": "execute_result"
    }
   ],
   "source": [
    "circuit.draw('mpl')"
   ]
  },
  {
   "cell_type": "code",
   "execution_count": 183,
   "id": "ea1302e8",
   "metadata": {},
   "outputs": [],
   "source": [
    "# Build a quantum circuit\n",
    "circuit = QuantumCircuit(3, 3)\n",
    "\n",
    "circuit.ccx(0, 1, 2)\n",
    "circuit.measure(range(3), range(3));"
   ]
  },
  {
   "cell_type": "code",
   "execution_count": 184,
   "id": "c51b47f6",
   "metadata": {},
   "outputs": [
    {
     "data": {
      "image/png": "[encoded data removed]",
      "text/plain": [
       "<Figure size 327.397x264.88 with 1 Axes>"
      ]
     },
     "execution_count": 184,
     "metadata": {},
     "output_type": "execute_result"
    }
   ],
   "source": [
    "circuit.draw('mpl')"
   ]
  },
  {
   "cell_type": "code",
   "execution_count": 185,
   "id": "698305bd",
   "metadata": {},
   "outputs": [
    {
     "name": "stdout",
     "output_type": "stream",
     "text": [
      "<class 'qiskit.circuit.library.standard_gates.x.CCXGate'>\n"
     ]
    },
    {
     "data": {
      "image/png": "[encoded data removed]",
      "text/plain": [
       "<Figure size 146.797x204.68 with 1 Axes>"
      ]
     },
     "execution_count": 185,
     "metadata": {},
     "output_type": "execute_result"
    }
   ],
   "source": [
    "from qiskit.circuit.library import CCXGate\n",
    "\n",
    "print(CCXGate)\n",
    "# Build a quantum circuit\n",
    "circuit = QuantumCircuit(3)\n",
    "\n",
    "circuit.append(CCXGate(), [0, 1, 2])\n",
    "circuit.draw('mpl')"
   ]
  },
  {
   "cell_type": "code",
   "execution_count": 186,
   "id": "f1b14b86",
   "metadata": {},
   "outputs": [
    {
     "name": "stdout",
     "output_type": "stream",
     "text": [
      "<class 'numpy.ndarray'> (8, 8)\n"
     ]
    }
   ],
   "source": [
    "mm = CCXGate().to_matrix()\n",
    "print(type(mm), mm.shape)"
   ]
  },
  {
   "cell_type": "code",
   "execution_count": 187,
   "id": "c522c052",
   "metadata": {},
   "outputs": [],
   "source": [
    "from qiskit.visualization import array_to_latex"
   ]
  },
  {
   "cell_type": "code",
   "execution_count": 188,
   "id": "b4b54b4b",
   "metadata": {},
   "outputs": [
    {
     "data": {
      "text/latex": [
       "$$\n",
       "\n",
       "\\begin{bmatrix}\n",
       "1 & 0 & 0 & 0 & 0 & 0 & 0 & 0  \\\\\n",
       " 0 & 1 & 0 & 0 & 0 & 0 & 0 & 0  \\\\\n",
       " 0 & 0 & 1 & 0 & 0 & 0 & 0 & 0  \\\\\n",
       " 0 & 0 & 0 & 0 & 0 & 0 & 0 & 1  \\\\\n",
       " 0 & 0 & 0 & 0 & 1 & 0 & 0 & 0  \\\\\n",
       " 0 & 0 & 0 & 0 & 0 & 1 & 0 & 0  \\\\\n",
       " 0 & 0 & 0 & 0 & 0 & 0 & 1 & 0  \\\\\n",
       " 0 & 0 & 0 & 1 & 0 & 0 & 0 & 0  \\\\\n",
       " \\end{bmatrix}\n",
       "$$"
      ],
      "text/plain": [
       "<IPython.core.display.Latex object>"
      ]
     },
     "execution_count": 188,
     "metadata": {},
     "output_type": "execute_result"
    }
   ],
   "source": [
    "array_to_latex(mm)"
   ]
  },
  {
   "cell_type": "code",
   "execution_count": 189,
   "id": "7faa86be",
   "metadata": {},
   "outputs": [
    {
     "data": {
      "image/png": "[encoded data removed]",
      "text/plain": [
       "<Figure size 748.797x204.68 with 1 Axes>"
      ]
     },
     "execution_count": 189,
     "metadata": {},
     "output_type": "execute_result"
    }
   ],
   "source": [
    "from qiskit import QuantumCircuit, transpile\n",
    "from qiskit.visualization import plot_histogram, plot_gate_map, plot_circuit_layout\n",
    "import qiskit.quantum_info as qi\n",
    "from qiskit.visualization import array_to_latex\n",
    "\n",
    "# Create a quantum circuit\n",
    "qc = QuantumCircuit(3)\n",
    "\n",
    "# Add a Toffoli gate\n",
    "qc.ccx(0, 1, 2)\n",
    "\n",
    "# Decompose the circuit to basis gates {u1,u2,u3,cx}\n",
    "qc_decomposed = transpile(qc, basis_gates=['u1','u2','u3','cx'])\n",
    "\n",
    "# Visualize the decomposed circuit\n",
    "qc_decomposed.draw('mpl')\n"
   ]
  },
  {
   "cell_type": "code",
   "execution_count": 190,
   "id": "95db14ac",
   "metadata": {},
   "outputs": [
    {
     "data": {
      "image/png": "[encoded data removed]",
      "text/plain": [
       "<Figure size 748.797x204.68 with 1 Axes>"
      ]
     },
     "execution_count": 190,
     "metadata": {},
     "output_type": "execute_result"
    }
   ],
   "source": [
    "from qiskit import QuantumCircuit, transpile\n",
    "from qiskit.visualization import plot_histogram, plot_gate_map, plot_circuit_layout\n",
    "from qiskit.providers.aer import AerSimulator\n",
    "from qiskit.visualization import array_to_latex\n",
    "\n",
    "def custom_toffoli(qc, a, b, c):\n",
    "    \"\"\"\n",
    "    Implements a Toffoli gate using qubits a, b as controls, and c as target.\n",
    "    Utilizes CNOT and U gates.\n",
    "    \"\"\"\n",
    "    # Angle for rotations\n",
    "    theta = np.pi/2\n",
    "    \n",
    "    # Apply Hadamard to the target qubit\n",
    "    qc.h(c)\n",
    "    \n",
    "    # Apply controlled rotations\n",
    "    qc.cx(b, c)\n",
    "    qc.tdg(c)\n",
    "    qc.cx(a, c)\n",
    "    qc.t(c)\n",
    "    qc.cx(b, c)\n",
    "    qc.tdg(c)\n",
    "    qc.cx(a, c)\n",
    "    \n",
    "    # Apply additional gates\n",
    "    qc.t(b)\n",
    "    qc.t(c)\n",
    "    qc.h(c)\n",
    "    qc.cx(a, b)\n",
    "    qc.t(a)\n",
    "    qc.tdg(b)\n",
    "    qc.cx(a, b)\n",
    "\n",
    "# Create a quantum circuit\n",
    "qc = QuantumCircuit(3)\n",
    "\n",
    "# Apply the custom Toffoli gate\n",
    "custom_toffoli(qc, 0, 1, 2)\n",
    "toffoli_gate = qc.to_gate(label = 'Toff')\n",
    "# Visualize the circuit\n",
    "qc.draw('mpl')\n"
   ]
  },
  {
   "cell_type": "code",
   "execution_count": 191,
   "id": "9646ffb1",
   "metadata": {},
   "outputs": [],
   "source": [
    "from qiskit import QuantumCircuit\n",
    "from qiskit import Aer, transpile\n",
    "\n",
    "import qiskit.quantum_info as qi\n",
    "import numpy as np\n",
    "\n",
    "def are_circuits_equivalent(circuit1, circuit2, num_qubits):\n",
    "    # Transpile circuits to ensure that they are expressed in terms of the same gate set\n",
    "#     circuit1 = transpile(circuit1, basis_gates=['u1','u2','u3','cx'])\n",
    "#     circuit2 = transpile(circuit2, basis_gates=['u1','u2','u3','cx'])\n",
    "\n",
    "    # Method 1: Compare Unitary Matrices\n",
    "    unitary1 = qi.Operator(circuit1)\n",
    "    unitary2 = qi.Operator(circuit2)\n",
    "    \n",
    "    # Check if unitaries are equal (up to a global phase)\n",
    "    if unitary1.equiv(unitary2):\n",
    "        print(\"Method 1: Circuits are equivalent\")\n",
    "    else:\n",
    "        print(\"Method 1: Circuits are NOT equivalent\")\n",
    "    \n",
    "    # Method 2: Compare Outputs on All Basis States\n",
    "    simulator = Aer.get_backend('statevector_simulator')\n",
    "    equivalent = True\n",
    "    \n",
    "    for i in range(2**num_qubits):\n",
    "        # Create a binary string of the current i, padded with zeros to match num_qubits\n",
    "        input_state = format(i, f'0{num_qubits}b')\n",
    "        \n",
    "        # Initialize circuits with the current input state\n",
    "        test_circuit1 = QuantumCircuit(num_qubits)\n",
    "        test_circuit2 = QuantumCircuit(num_qubits)\n",
    "        \n",
    "        for j, bit in enumerate(input_state):\n",
    "            if bit == '1':\n",
    "                test_circuit1.x(j)\n",
    "                test_circuit2.x(j)\n",
    "        \n",
    "        # Append the circuits to be checked\n",
    "        test_circuit1 = test_circuit1.compose(circuit1)\n",
    "        test_circuit2 = test_circuit2.compose(circuit2)\n",
    "        \n",
    "        # Get final statevectors\n",
    "        result1 = simulator.run(test_circuit1).result().get_statevector()\n",
    "        result2 = simulator.run(test_circuit2).result().get_statevector()\n",
    "        \n",
    "        # Check if the output states are equal (up to a global phase)\n",
    "#         print(np.angle(result1), np.angle(result2))\n",
    "        if not np.allclose(np.angle(result1), np.angle(result2), atol=1e-8):\n",
    "            equivalent = False\n",
    "            break\n",
    "    \n",
    "    if equivalent:\n",
    "        print(\"Method 2: Circuits are equivalent\")\n",
    "    else:\n",
    "        print(\"Method 2: Circuits are NOT equivalent\")\n",
    "\n",
    "# Example usage:\n",
    "# Create two circuits (circuit1 and circuit2) and then check if they are equivalent:\n",
    "# are_circuits_equivalent(circuit1, circuit2, num_qubits)\n"
   ]
  },
  {
   "cell_type": "code",
   "execution_count": 192,
   "id": "17b8cbb3",
   "metadata": {},
   "outputs": [
    {
     "name": "stdout",
     "output_type": "stream",
     "text": [
      "Method 1: Circuits are equivalent\n",
      "Method 2: Circuits are NOT equivalent\n"
     ]
    }
   ],
   "source": [
    "are_circuits_equivalent(qc, qc_decomposed, 3)\n",
    "   "
   ]
  },
  {
   "cell_type": "code",
   "execution_count": 193,
   "id": "d788b5f4",
   "metadata": {},
   "outputs": [
    {
     "name": "stdout",
     "output_type": "stream",
     "text": [
      "['h', 'cx', 'tdg', 'cx', 't', 'cx', 'tdg', 'cx', 't', 't', 'h', 'cx', 't', 'tdg', 'cx']\n",
      "\n",
      "['u2', 'cx', 'u1', 'cx', 'u1', 'cx', 'u1', 'u1', 'cx', 'cx', 'u1', 'u1', 'cx', 'u2']\n"
     ]
    }
   ],
   "source": [
    "print([op.operation.name for op in qc.data])\n",
    "print()\n",
    "print([op.operation.name for op in qc_decomposed.data])"
   ]
  },
  {
   "cell_type": "code",
   "execution_count": 196,
   "id": "6746a6a6",
   "metadata": {},
   "outputs": [
    {
     "name": "stdout",
     "output_type": "stream",
     "text": [
      "The built-in and custom Toffoli gates are equivalent up to a global phase.\n"
     ]
    },
    {
     "data": {
      "text/latex": [
       "$$\n",
       "\n",
       "\\begin{bmatrix}\n",
       "1 & 0 & 0 & 0 & 0 & 0 & 0 & 0  \\\\\n",
       " 0 & 1 & 0 & 0 & 0 & 0 & 0 & 0  \\\\\n",
       " 0 & 0 & 1 & 0 & 0 & 0 & 0 & 0  \\\\\n",
       " 0 & 0 & 0 & 0 & 0 & 0 & 0 & 1  \\\\\n",
       " 0 & 0 & 0 & 0 & 1 & 0 & 0 & 0  \\\\\n",
       " 0 & 0 & 0 & 0 & 0 & 1 & 0 & 0  \\\\\n",
       " 0 & 0 & 0 & 0 & 0 & 0 & 1 & 0  \\\\\n",
       " 0 & 0 & 0 & 1 & 0 & 0 & 0 & 0  \\\\\n",
       " \\end{bmatrix}\n",
       "$$"
      ],
      "text/plain": [
       "<IPython.core.display.Latex object>"
      ]
     },
     "execution_count": 196,
     "metadata": {},
     "output_type": "execute_result"
    }
   ],
   "source": [
    "from qiskit import QuantumCircuit, transpile, Aer\n",
    "from qiskit.visualization import array_to_latex\n",
    "import qiskit.quantum_info as qi\n",
    "import numpy as np\n",
    "\n",
    "# Create quantum circuit with the built-in Toffoli\n",
    "qc_built_in = QuantumCircuit(3)\n",
    "qc_built_in.ccx(0, 1, 2)\n",
    "\n",
    "# Create quantum circuit with the custom Toffoli\n",
    "qc_custom = QuantumCircuit(3)\n",
    "custom_toffoli(qc_custom, 0, 1, 2)  # assuming custom_toffoli is defined as before\n",
    "\n",
    "# Get the unitary matrices\n",
    "unitary_built_in = qi.Operator(qc_built_in).data\n",
    "unitary_custom = qi.Operator(qc_custom).data\n",
    "\n",
    "# Check if the unitaries are equal up to a global phase\n",
    "if qi.Operator(qc_built_in).equiv(qc_custom):\n",
    "    print(\"The built-in and custom Toffoli gates are equivalent up to a global phase.\")\n",
    "else:\n",
    "    print(\"The built-in and custom Toffoli gates are NOT equivalent.\")\n",
    "    \n",
    "# Display the unitary matrices\n",
    "# array_to_latex(unitary_built_in)\n",
    "array_to_latex(unitary_custom)\n"
   ]
  },
  {
   "cell_type": "code",
   "execution_count": 202,
   "id": "bafad23a",
   "metadata": {},
   "outputs": [],
   "source": [
    "def custom_mcx_circuit(n):\n",
    "    num_controls = n\n",
    "    num_anc = num_controls - 2\n",
    "    cntr = QuantumRegister(num_controls, 'ctrl')\n",
    "    ancl = QuantumRegister(num_anc, 'ancl')\n",
    "    targ = QuantumRegister(1, 'targ')\n",
    "    qc = QuantumCircuit(cntr, ancl, targ)\n",
    "    a = [x for x in range(n)]\n",
    "    b = [x + n for x in range(n - 2)]\n",
    "    c = n * 2 - 2\n",
    "    return qc, a, b, c"
   ]
  },
  {
   "cell_type": "code",
   "execution_count": 210,
   "id": "8f527a52",
   "metadata": {},
   "outputs": [
    {
     "data": {
      "image/png": "[encoded data removed]",
      "text/plain": [
       "<Figure size 288.112x325.08 with 1 Axes>"
      ]
     },
     "execution_count": 210,
     "metadata": {},
     "output_type": "execute_result"
    }
   ],
   "source": [
    "def custom_mcx(qc, control_qubits, auxiliary_qubits, target_qubit):\n",
    "    num_controls = len(control_qubits)\n",
    "    \n",
    "    # Base case: if only two control qubits, apply custom Toffoli\n",
    "    if num_controls == 2:\n",
    "        qc.append(toffoli_gate, [control_qubits[0], control_qubits[1], target_qubit])\n",
    "#         custom_toffoli(qc, control_qubits[0], control_qubits[1], target_qubit)\n",
    "        return\n",
    "    \n",
    "    # Step 1: compute up to last ancilla using less controls\n",
    "    custom_mcx(qc, control_qubits[:-1], auxiliary_qubits[:-1], auxiliary_qubits[-1])\n",
    "    \n",
    "    # Step 2: Apply\n",
    "    qc.append(toffoli_gate, [control_qubits[-1], auxiliary_qubits[-1], target_qubit])\n",
    "#     custom_mcx(qc, [control_qubits[-1], auxiliary_qubits[-1]], auxiliary_qubits[-1], target_qubit)\n",
    "    \n",
    "    # Step 3: Uncompute\n",
    "    custom_mcx(qc, control_qubits[:-1], auxiliary_qubits[:-1], auxiliary_qubits[-1])\n",
    "    \n",
    "# Example usage:\n",
    "qc, control_qubits, auxiliary_qubits, target_qubit = custom_mcx_circuit(3)\n",
    "\n",
    "custom_mcx(qc, control_qubits, auxiliary_qubits,  target_qubit)\n",
    "qc.draw('mpl')"
   ]
  },
  {
   "cell_type": "code",
   "execution_count": 222,
   "id": "9800c428",
   "metadata": {},
   "outputs": [
    {
     "name": "stdout",
     "output_type": "stream",
     "text": [
      "The built-in and custom Toffoli gates are equivalent up to a global phase.\n",
      "No Diff\n"
     ]
    },
    {
     "data": {
      "text/latex": [
       "$$\n",
       "\n",
       "\\begin{bmatrix}\n",
       "1 & 0 & 0 & 0 & \\cdots & 0 & 0 & 0  \\\\\n",
       " 0 & 1 & 0 & 0 & \\cdots & 0 & 0 & 0  \\\\\n",
       " 0 & 0 & 1 & 0 & \\cdots & 0 & 0 & 0  \\\\\n",
       " 0 & 0 & 0 & 1 & \\cdots & 0 & 0 & 0  \\\\\n",
       " \\vdots & \\vdots & \\vdots & \\vdots & \\ddots & \\vdots & \\vdots & \\vdots \\\\\n",
       " 0 & 0 & 0 & 0 & \\cdots & 0 & 0 & 0  \\\\\n",
       " 0 & 0 & 0 & 0 & \\cdots & 0 & 0 & 0  \\\\\n",
       " 0 & 0 & 0 & 0 & \\cdots & 0 & 0 & 1  \\\\\n",
       " \\end{bmatrix}\n",
       "$$"
      ],
      "text/plain": [
       "<IPython.core.display.Latex object>"
      ]
     },
     "execution_count": 222,
     "metadata": {},
     "output_type": "execute_result"
    }
   ],
   "source": [
    "from qiskit import QuantumCircuit, transpile, Aer\n",
    "from qiskit.quantum_info import Operator\n",
    "import numpy as np\n",
    "\n",
    "# Define the number of control qubits and auxiliary qubits\n",
    "num_controls = 5\n",
    "qc, control_qubits, auxiliary_qubits, target_qubit = custom_mcx_circuit(num_controls)\n",
    "\n",
    "# Create a quantum circuit using the built-in MCX gate\n",
    "qc_built_in = QuantumCircuit(num_controls + len(auxiliary_qubits) + 1)  \n",
    "qc_built_in.mcx(control_qubits, target_qubit, auxiliary_qubits, mode='basic')  # Using basic mode for simplicity\n",
    "qc_built_in = transpile(qc_built_in, basis_gates=['cx','u3'])  # Transpile to CNOT and U3 gates\n",
    "\n",
    "# Create a quantum circuit using the custom MCX function\n",
    "qc_custom = QuantumCircuit(num_controls + len(auxiliary_qubits) + 1)  # +1 for the target qubit, +1 for auxiliary qubit\n",
    "custom_mcx(qc_custom, control_qubits, auxiliary_qubits, target_qubit)\n",
    "\n",
    "# Get the unitary matrices\n",
    "unitary_built_in = qi.Operator(qc_built_in).data\n",
    "unitary_custom = qi.Operator(qc_custom).data\n",
    "\n",
    "# Check if the unitaries are equal up to a global phase\n",
    "if qi.Operator(qc_built_in).equiv(qc_custom):\n",
    "    print(\"The built-in and custom Toffoli gates are equivalent up to a global phase.\")\n",
    "else:\n",
    "    print(\"The built-in and custom Toffoli gates are NOT equivalent.\")\n",
    "    \n",
    "\n",
    "found_diff = False\n",
    "for i in range(len(unitary_built_in)):\n",
    "    for j in range(len(unitary_built_in)):\n",
    "        if abs(unitary_built_in[i][j] - unitary_custom[i][j]) > 1e-8:\n",
    "            print(i, j, unitary_built_in[i][j], unitary_custom[i][j],\n",
    "                 np.round(abs(unitary_built_in[i][j] - unitary_custom[i][j])))\n",
    "            found_diff = True\n",
    "\n",
    "if (found_diff == False):\n",
    "    print(\"No Diff\")\n",
    "else:\n",
    "    print(\"Diff above\")\n",
    "  \n",
    "# Display the unitary matrices\n",
    "# array_to_latex(unitary_built_in, max_size=8)\n",
    "array_to_latex(unitary_custom, max_size=8)\n"
   ]
  },
  {
   "cell_type": "code",
   "execution_count": 223,
   "id": "17efd21f",
   "metadata": {},
   "outputs": [
    {
     "data": {
      "image/png": "[encoded data removed]",
      "text/plain": [
       "<Figure size 989.597x565.88 with 1 Axes>"
      ]
     },
     "execution_count": 223,
     "metadata": {},
     "output_type": "execute_result"
    }
   ],
   "source": [
    "qc_custom.draw('mpl')"
   ]
  },
  {
   "cell_type": "code",
   "execution_count": null,
   "id": "8e4b8d38",
   "metadata": {},
   "outputs": [],
   "source": []
  }
 ],
 "metadata": {
  "kernelspec": {
   "display_name": "Python (qiskit-stable)",
   "language": "python",
   "name": "qiskit-stable"
  },
  "language_info": {
   "codemirror_mode": {
    "name": "ipython",
    "version": 3
   },
   "file_extension": ".py",
   "mimetype": "text/x-python",
   "name": "python",
   "nbconvert_exporter": "python",
   "pygments_lexer": "ipython3",
   "version": "3.10.12"
  }
 },
 "nbformat": 4,
 "nbformat_minor": 5
}
