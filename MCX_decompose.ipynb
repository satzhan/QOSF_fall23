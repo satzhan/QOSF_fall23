{
 "cells": [
  {
   "cell_type": "markdown",
   "id": "b62952b5",
   "metadata": {},
   "source": [
    "# Part 1 \n",
    "\n",
    "## CCX gate, aka Toffoli\n",
    "\n",
    "Caviat, I was doing it in Qiskit and I just stuck with it, they are following little endian convention.\n",
    "\n",
    "https://qiskit.org/documentation/stubs/qiskit.circuit.library.CCXGate.html"
   ]
  },
  {
   "cell_type": "code",
   "execution_count": 59,
   "id": "16dc9692",
   "metadata": {},
   "outputs": [],
   "source": [
    "from qiskit import Aer, transpile\n",
    "from qiskit import QuantumCircuit, transpile\n",
    "\n",
    "from qiskit.visualization import plot_histogram, plot_gate_map, plot_circuit_layout\n",
    "from qiskit.visualization import array_to_latex\n",
    "\n",
    "import qiskit.quantum_info as qi\n",
    "import numpy as np\n",
    "\n",
    "# Example usage:\n",
    "# Create two circuits (circuit1 and circuit2) and then check if they are equivalent:\n",
    "# are_circuits_equivalent(circuit1, circuit2, num_qubits)\n",
    "\n",
    "def are_circuits_equivalent(circuit1, circuit2, num_qubits):\n",
    "    # Transpile circuits to ensure that they are expressed in terms of the same gate set\n",
    "    circuit1 = transpile(circuit1, basis_gates=['u1','u2','u3','cx'])\n",
    "    circuit2 = transpile(circuit2, basis_gates=['u1','u2','u3','cx'])\n",
    "\n",
    "    # Method 1: Compare Unitary Matrices\n",
    "    unitary1 = qi.Operator(circuit1)\n",
    "    unitary2 = qi.Operator(circuit2)\n",
    "    \n",
    "    # Check if unitaries are equal (up to a global phase)\n",
    "    if unitary1.equiv(unitary2):\n",
    "        print(\"Method 1: Circuits are equivalent\")\n",
    "    else:\n",
    "        print(\"Method 1: Circuits are NOT equivalent\")\n",
    "    \n",
    "    # Method 2: Compare Outputs on All Basis States\n",
    "    simulator = Aer.get_backend('statevector_simulator')\n",
    "    equivalent = True\n",
    "    \n",
    "    for i in range(2**num_qubits):\n",
    "        # Create a binary string of the current i, padded with zeros to match num_qubits\n",
    "        input_state = format(i, f'0{num_qubits}b')\n",
    "        \n",
    "        # Initialize circuits with the current input state\n",
    "        test_circuit1 = QuantumCircuit(num_qubits)\n",
    "        test_circuit2 = QuantumCircuit(num_qubits)\n",
    "        \n",
    "        for j, bit in enumerate(input_state):\n",
    "            if bit == '1':\n",
    "                test_circuit1.x(j)\n",
    "                test_circuit2.x(j)\n",
    "        \n",
    "        # Append the circuits to be checked\n",
    "        test_circuit1 = test_circuit1.compose(circuit1)\n",
    "        test_circuit2 = test_circuit2.compose(circuit2)\n",
    "        \n",
    "        # Get final statevectors\n",
    "        result1 = simulator.run(test_circuit1).result().get_statevector()\n",
    "        result2 = simulator.run(test_circuit2).result().get_statevector()\n",
    "        \n",
    "        # Check if the output states are equal (up to a global phase)\n",
    "#         print(np.angle(result1), np.angle(result2))\n",
    "        if not np.allclose(np.angle(result1), np.angle(result2), atol=1e-8):\n",
    "            equivalent = False\n",
    "            break\n",
    "    \n",
    "    if equivalent:\n",
    "        print(\"Method 2: Circuits are equivalent\")\n",
    "    else:\n",
    "        print(\"Method 2: Circuits are NOT equivalent\")\n",
    "\n",
    "\n",
    "def custom_toffoli(circuit, control_qubit1, control_qubit2, target_qubit):\n",
    "    \"\"\"\n",
    "    Implements a Toffoli gate using qubits control_qubit1, control_qubit2 as controls, \n",
    "    and target_qubit as the target. Utilizes CNOT and U gates.\n",
    "    \"\"\"\n",
    "    \n",
    "    # Apply Hadamard to the target qubit\n",
    "    circuit.h(target_qubit)\n",
    "    \n",
    "    # Apply controlled rotations\n",
    "    circuit.cx(control_qubit2, target_qubit)\n",
    "    circuit.tdg(target_qubit)\n",
    "    circuit.cx(control_qubit1, target_qubit)\n",
    "    circuit.t(target_qubit)\n",
    "    circuit.cx(control_qubit2, target_qubit)\n",
    "    circuit.tdg(target_qubit)\n",
    "    circuit.cx(control_qubit1, target_qubit)\n",
    "    \n",
    "    # Apply additional gates\n",
    "    circuit.t(control_qubit2)\n",
    "    circuit.t(target_qubit)\n",
    "    circuit.h(target_qubit)\n",
    "    circuit.cx(control_qubit1, control_qubit2)\n",
    "    circuit.t(control_qubit1)\n",
    "    circuit.tdg(control_qubit2)\n",
    "    circuit.cx(control_qubit1, control_qubit2)\n"
   ]
  },
  {
   "cell_type": "code",
   "execution_count": 60,
   "id": "93887159",
   "metadata": {},
   "outputs": [
    {
     "name": "stdout",
     "output_type": "stream",
     "text": [
      "CUSTOM TOFFOLI\n"
     ]
    },
    {
     "data": {
      "image/png": "[encoded data removed]",
      "text/plain": [
       "<Figure size 748.797x204.68 with 1 Axes>"
      ]
     },
     "execution_count": 60,
     "metadata": {},
     "output_type": "execute_result"
    }
   ],
   "source": [
    "qc = QuantumCircuit(3)\n",
    "custom_toffoli(qc, 0, 1, 2)\n",
    "print('CUSTOM TOFFOLI')\n",
    "qc.draw('mpl')"
   ]
  },
  {
   "cell_type": "code",
   "execution_count": 61,
   "id": "d91fd3ff",
   "metadata": {},
   "outputs": [
    {
     "name": "stdout",
     "output_type": "stream",
     "text": [
      "QISKIT TOFFOLI\n"
     ]
    },
    {
     "data": {
      "image/png": "[encoded data removed]",
      "text/plain": [
       "<Figure size 748.797x204.68 with 1 Axes>"
      ]
     },
     "execution_count": 61,
     "metadata": {},
     "output_type": "execute_result"
    }
   ],
   "source": [
    "qc = QuantumCircuit(3)\n",
    "qc.ccx(0, 1, 2)\n",
    "qc_decomposed = transpile(qc, basis_gates=['u1','u2','u3','cx'])\n",
    "print(\"QISKIT TOFFOLI\")\n",
    "qc_decomposed.draw('mpl')"
   ]
  },
  {
   "cell_type": "code",
   "execution_count": 62,
   "id": "f2c22925",
   "metadata": {},
   "outputs": [
    {
     "name": "stdout",
     "output_type": "stream",
     "text": [
      "Method 1: Circuits are equivalent\n",
      "Method 2: Circuits are equivalent\n"
     ]
    }
   ],
   "source": [
    "are_circuits_equivalent(qc, qc_decomposed, 3)"
   ]
  },
  {
   "cell_type": "code",
   "execution_count": 63,
   "id": "9ac4736d",
   "metadata": {},
   "outputs": [
    {
     "name": "stdout",
     "output_type": "stream",
     "text": [
      "CUSTOM TOFFOLI MATRIX\n"
     ]
    },
    {
     "data": {
      "text/latex": [
       "$$\n",
       "\n",
       "\\begin{bmatrix}\n",
       "1 & 0 & 0 & 0 & 0 & 0 & 0 & 0  \\\\\n",
       " 0 & 1 & 0 & 0 & 0 & 0 & 0 & 0  \\\\\n",
       " 0 & 0 & 1 & 0 & 0 & 0 & 0 & 0  \\\\\n",
       " 0 & 0 & 0 & 0 & 0 & 0 & 0 & 1  \\\\\n",
       " 0 & 0 & 0 & 0 & 1 & 0 & 0 & 0  \\\\\n",
       " 0 & 0 & 0 & 0 & 0 & 1 & 0 & 0  \\\\\n",
       " 0 & 0 & 0 & 0 & 0 & 0 & 1 & 0  \\\\\n",
       " 0 & 0 & 0 & 1 & 0 & 0 & 0 & 0  \\\\\n",
       " \\end{bmatrix}\n",
       "$$"
      ],
      "text/plain": [
       "<IPython.core.display.Latex object>"
      ]
     },
     "execution_count": 63,
     "metadata": {},
     "output_type": "execute_result"
    }
   ],
   "source": [
    "qc_custom = QuantumCircuit(3)\n",
    "custom_toffoli(qc_custom, 0, 1, 2) \n",
    "unitary_custom = qi.Operator(qc_custom).data\n",
    "print('CUSTOM TOFFOLI MATRIX')\n",
    "array_to_latex(unitary_custom)"
   ]
  },
  {
   "cell_type": "code",
   "execution_count": 64,
   "id": "9805728d",
   "metadata": {},
   "outputs": [
    {
     "name": "stdout",
     "output_type": "stream",
     "text": [
      "QISKIT TOFFOLI MATRIX\n"
     ]
    },
    {
     "data": {
      "text/latex": [
       "$$\n",
       "\n",
       "\\begin{bmatrix}\n",
       "1 & 0 & 0 & 0 & 0 & 0 & 0 & 0  \\\\\n",
       " 0 & 1 & 0 & 0 & 0 & 0 & 0 & 0  \\\\\n",
       " 0 & 0 & 1 & 0 & 0 & 0 & 0 & 0  \\\\\n",
       " 0 & 0 & 0 & 0 & 0 & 0 & 0 & 1  \\\\\n",
       " 0 & 0 & 0 & 0 & 1 & 0 & 0 & 0  \\\\\n",
       " 0 & 0 & 0 & 0 & 0 & 1 & 0 & 0  \\\\\n",
       " 0 & 0 & 0 & 0 & 0 & 0 & 1 & 0  \\\\\n",
       " 0 & 0 & 0 & 1 & 0 & 0 & 0 & 0  \\\\\n",
       " \\end{bmatrix}\n",
       "$$"
      ],
      "text/plain": [
       "<IPython.core.display.Latex object>"
      ]
     },
     "execution_count": 64,
     "metadata": {},
     "output_type": "execute_result"
    }
   ],
   "source": [
    "qc_built_in = QuantumCircuit(3)\n",
    "qc_built_in.ccx(0, 1, 2)\n",
    "unitary_built_in = qi.Operator(qc_built_in).data\n",
    "print('QISKIT TOFFOLI MATRIX')\n",
    "array_to_latex(unitary_built_in)"
   ]
  },
  {
   "cell_type": "markdown",
   "id": "5536b660",
   "metadata": {},
   "source": [
    "### Part 2 MCX"
   ]
  },
  {
   "cell_type": "code",
   "execution_count": 65,
   "id": "8c46591b",
   "metadata": {},
   "outputs": [],
   "source": [
    "qc = QuantumCircuit(3)\n",
    "custom_toffoli(qc, 0, 1, 2)\n",
    "toffoli_gate = qc.to_gate(label = 'Toff')\n"
   ]
  },
  {
   "cell_type": "code",
   "execution_count": 66,
   "id": "32916414",
   "metadata": {},
   "outputs": [],
   "source": [
    "from qiskit import QuantumRegister\n",
    "\n",
    "def custom_mcx_circuit(n):\n",
    "    num_controls = n\n",
    "    num_anc = num_controls - 2\n",
    "    cntr = QuantumRegister(num_controls, 'ctrl')\n",
    "    ancl = QuantumRegister(num_anc, 'ancl')\n",
    "    targ = QuantumRegister(1, 'targ')\n",
    "    qc = QuantumCircuit(cntr, ancl, targ)\n",
    "    a = [x for x in range(n)]\n",
    "    b = [x + n for x in range(n - 2)]\n",
    "    c = n * 2 - 2\n",
    "    return qc, a, b, c\n",
    "\n",
    "def custom_mcx(qc, control_qubits, auxiliary_qubits, target_qubit):\n",
    "    num_controls = len(control_qubits)\n",
    "    if num_controls == 2:\n",
    "        qc.append(toffoli_gate, [control_qubits[0], control_qubits[1], target_qubit])\n",
    "        return\n",
    "    custom_mcx(qc, control_qubits[:-1], auxiliary_qubits[:-1], auxiliary_qubits[-1])\n",
    "    qc.append(toffoli_gate, [control_qubits[-1], auxiliary_qubits[-1], target_qubit])\n",
    "    custom_mcx(qc, control_qubits[:-1], auxiliary_qubits[:-1], auxiliary_qubits[-1])\n",
    "    "
   ]
  },
  {
   "cell_type": "code",
   "execution_count": 67,
   "id": "fef927f4",
   "metadata": {},
   "outputs": [
    {
     "data": {
      "image/png": "[encoded data removed]",
      "text/plain": [
       "<Figure size 537.995x445.48 with 1 Axes>"
      ]
     },
     "execution_count": 67,
     "metadata": {},
     "output_type": "execute_result"
    }
   ],
   "source": [
    "num_controls = 4\n",
    "qc, control_qubits, auxiliary_qubits, target_qubit = custom_mcx_circuit(num_controls)\n",
    "custom_mcx(qc, control_qubits, auxiliary_qubits, target_qubit)\n",
    "qc.draw('mpl')"
   ]
  },
  {
   "cell_type": "code",
   "execution_count": 68,
   "id": "3d04fa6f",
   "metadata": {},
   "outputs": [
    {
     "name": "stdout",
     "output_type": "stream",
     "text": [
      "The built-in and custom Toffoli gates are equivalent up to a global phase.\n",
      "\n",
      "No Difference found in the matrix forms\n"
     ]
    }
   ],
   "source": [
    "qc_built_in = QuantumCircuit(num_controls + len(auxiliary_qubits) + 1)  \n",
    "qc_built_in.mcx(control_qubits, target_qubit, auxiliary_qubits, mode='basic')  # Using basic mode for simplicity\n",
    "qc_built_in = transpile(qc_built_in, basis_gates=['cx','u3'])  # Transpile to CNOT and U3 gates\n",
    "\n",
    "qc_custom = QuantumCircuit(num_controls + len(auxiliary_qubits) + 1)  # +1 for the target qubit, +1 for auxiliary qubit\n",
    "custom_mcx(qc_custom, control_qubits, auxiliary_qubits, target_qubit)\n",
    "\n",
    "unitary_built_in = qi.Operator(qc_built_in).data\n",
    "unitary_custom = qi.Operator(qc_custom).data\n",
    "\n",
    "if qi.Operator(qc_built_in).equiv(qc_custom):\n",
    "    print(\"The built-in and custom Toffoli gates are equivalent up to a global phase.\")\n",
    "else:\n",
    "    print(\"The built-in and custom Toffoli gates are NOT equivalent.\")\n",
    "    \n",
    "found_diff = False\n",
    "for i in range(len(unitary_built_in)):\n",
    "    for j in range(len(unitary_built_in)):\n",
    "        if abs(unitary_built_in[i][j] - unitary_custom[i][j]) > 1e-8:\n",
    "            print(i, j, unitary_built_in[i][j], unitary_custom[i][j],\n",
    "                 np.round(abs(unitary_built_in[i][j] - unitary_custom[i][j])))\n",
    "            found_diff = True\n",
    "\n",
    "if (found_diff == False):\n",
    "    print()\n",
    "    print(\"No Difference found in the matrix forms\")\n",
    "else:\n",
    "    print(\"Diff above\")"
   ]
  },
  {
   "cell_type": "markdown",
   "id": "99c5c26d",
   "metadata": {},
   "source": [
    "# Part 1.1 If we really need the matrix in nice print, reverse operators"
   ]
  },
  {
   "cell_type": "code",
   "execution_count": 69,
   "id": "c8288d13",
   "metadata": {},
   "outputs": [
    {
     "name": "stdout",
     "output_type": "stream",
     "text": [
      "CUSTOM TOFFOLI MATRIX\n"
     ]
    },
    {
     "data": {
      "text/latex": [
       "$$\n",
       "\n",
       "\\begin{bmatrix}\n",
       "1 & 0 & 0 & 0 & 0 & 0 & 0 & 0  \\\\\n",
       " 0 & 1 & 0 & 0 & 0 & 0 & 0 & 0  \\\\\n",
       " 0 & 0 & 1 & 0 & 0 & 0 & 0 & 0  \\\\\n",
       " 0 & 0 & 0 & 1 & 0 & 0 & 0 & 0  \\\\\n",
       " 0 & 0 & 0 & 0 & 1 & 0 & 0 & 0  \\\\\n",
       " 0 & 0 & 0 & 0 & 0 & 1 & 0 & 0  \\\\\n",
       " 0 & 0 & 0 & 0 & 0 & 0 & 0 & 1  \\\\\n",
       " 0 & 0 & 0 & 0 & 0 & 0 & 1 & 0  \\\\\n",
       " \\end{bmatrix}\n",
       "$$"
      ],
      "text/plain": [
       "<IPython.core.display.Latex object>"
      ]
     },
     "execution_count": 69,
     "metadata": {},
     "output_type": "execute_result"
    }
   ],
   "source": [
    "qc_custom = QuantumCircuit(3)\n",
    "custom_toffoli(qc_custom, 2, 1, 0) \n",
    "unitary_custom = qi.Operator(qc_custom).data\n",
    "print('CUSTOM TOFFOLI MATRIX')\n",
    "array_to_latex(unitary_custom)"
   ]
  },
  {
   "cell_type": "code",
   "execution_count": null,
   "id": "37f1f3f5",
   "metadata": {},
   "outputs": [],
   "source": []
  }
 ],
 "metadata": {
  "kernelspec": {
   "display_name": "Python (qiskit-stable)",
   "language": "python",
   "name": "qiskit-stable"
  },
  "language_info": {
   "codemirror_mode": {
    "name": "ipython",
    "version": 3
   },
   "file_extension": ".py",
   "mimetype": "text/x-python",
   "name": "python",
   "nbconvert_exporter": "python",
   "pygments_lexer": "ipython3",
   "version": "3.10.12"
  }
 },
 "nbformat": 4,
 "nbformat_minor": 5
}
